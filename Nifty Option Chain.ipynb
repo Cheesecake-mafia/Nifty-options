{
 "cells": [
  {
   "cell_type": "code",
   "execution_count": 1,
   "metadata": {},
   "outputs": [],
   "source": [
    "import requests\n",
    "import pandas as pd\n",
    "import matplotlib.pyplot as plt"
   ]
  },
  {
   "cell_type": "code",
   "execution_count": 2,
   "metadata": {},
   "outputs": [],
   "source": [
    "url = 'https://www.nseindia.com/api/option-chain-indices?symbol=NIFTY'"
   ]
  },
  {
   "cell_type": "code",
   "execution_count": 3,
   "metadata": {},
   "outputs": [],
   "source": [
    "headers = {\n",
    "    'user-agent': 'Mozilla/5.0 (Windows NT 10.0; Win64; x64) AppleWebKit/537.36 (KHTML, like Gecko) Chrome/97.0.4692.99 Safari/537.36',\n",
    "    'accept-encoding': 'gzip, deflate, br' ,\n",
    "    'accept-language': 'en-US,en;q=0.9'\n",
    "    \n",
    "}"
   ]
  },
  {
   "cell_type": "code",
   "execution_count": 4,
   "metadata": {},
   "outputs": [],
   "source": [
    "session = requests.Session()\n",
    "request = session.get(url, headers=headers)\n",
    "cookies = dict(request.cookies)\n",
    "response = session.get(url, headers=headers, cookies=cookies).json()\n",
    "rawdata = pd.DataFrame(response)"
   ]
  },
  {
   "cell_type": "code",
   "execution_count": 5,
   "metadata": {},
   "outputs": [],
   "source": [
    "raw_op = pd.DataFrame(rawdata[\"filtered\"][\"data\"]).fillna(0)"
   ]
  },
  {
   "cell_type": "code",
   "execution_count": 6,
   "metadata": {},
   "outputs": [
    {
     "data": {
      "text/html": [
       "<div>\n",
       "<style scoped>\n",
       "    .dataframe tbody tr th:only-of-type {\n",
       "        vertical-align: middle;\n",
       "    }\n",
       "\n",
       "    .dataframe tbody tr th {\n",
       "        vertical-align: top;\n",
       "    }\n",
       "\n",
       "    .dataframe thead th {\n",
       "        text-align: right;\n",
       "    }\n",
       "</style>\n",
       "<table border=\"1\" class=\"dataframe\">\n",
       "  <thead>\n",
       "    <tr style=\"text-align: right;\">\n",
       "      <th></th>\n",
       "      <th>strikePrice</th>\n",
       "      <th>expiryDate</th>\n",
       "      <th>CE</th>\n",
       "      <th>PE</th>\n",
       "    </tr>\n",
       "  </thead>\n",
       "  <tbody>\n",
       "    <tr>\n",
       "      <th>0</th>\n",
       "      <td>15100</td>\n",
       "      <td>03-Feb-2022</td>\n",
       "      <td>{'strikePrice': 15100, 'expiryDate': '03-Feb-2...</td>\n",
       "      <td>{'strikePrice': 15100, 'expiryDate': '03-Feb-2...</td>\n",
       "    </tr>\n",
       "    <tr>\n",
       "      <th>1</th>\n",
       "      <td>15150</td>\n",
       "      <td>03-Feb-2022</td>\n",
       "      <td>{'strikePrice': 15150, 'expiryDate': '03-Feb-2...</td>\n",
       "      <td>{'strikePrice': 15150, 'expiryDate': '03-Feb-2...</td>\n",
       "    </tr>\n",
       "    <tr>\n",
       "      <th>2</th>\n",
       "      <td>15200</td>\n",
       "      <td>03-Feb-2022</td>\n",
       "      <td>{'strikePrice': 15200, 'expiryDate': '03-Feb-2...</td>\n",
       "      <td>{'strikePrice': 15200, 'expiryDate': '03-Feb-2...</td>\n",
       "    </tr>\n",
       "    <tr>\n",
       "      <th>3</th>\n",
       "      <td>15250</td>\n",
       "      <td>03-Feb-2022</td>\n",
       "      <td>{'strikePrice': 15250, 'expiryDate': '03-Feb-2...</td>\n",
       "      <td>{'strikePrice': 15250, 'expiryDate': '03-Feb-2...</td>\n",
       "    </tr>\n",
       "    <tr>\n",
       "      <th>4</th>\n",
       "      <td>15300</td>\n",
       "      <td>03-Feb-2022</td>\n",
       "      <td>{'strikePrice': 15300, 'expiryDate': '03-Feb-2...</td>\n",
       "      <td>{'strikePrice': 15300, 'expiryDate': '03-Feb-2...</td>\n",
       "    </tr>\n",
       "    <tr>\n",
       "      <th>...</th>\n",
       "      <td>...</td>\n",
       "      <td>...</td>\n",
       "      <td>...</td>\n",
       "      <td>...</td>\n",
       "    </tr>\n",
       "    <tr>\n",
       "      <th>90</th>\n",
       "      <td>19600</td>\n",
       "      <td>03-Feb-2022</td>\n",
       "      <td>{'strikePrice': 19600, 'expiryDate': '03-Feb-2...</td>\n",
       "      <td>{'strikePrice': 19600, 'expiryDate': '03-Feb-2...</td>\n",
       "    </tr>\n",
       "    <tr>\n",
       "      <th>91</th>\n",
       "      <td>19650</td>\n",
       "      <td>03-Feb-2022</td>\n",
       "      <td>{'strikePrice': 19650, 'expiryDate': '03-Feb-2...</td>\n",
       "      <td>{'strikePrice': 19650, 'expiryDate': '03-Feb-2...</td>\n",
       "    </tr>\n",
       "    <tr>\n",
       "      <th>92</th>\n",
       "      <td>19700</td>\n",
       "      <td>03-Feb-2022</td>\n",
       "      <td>{'strikePrice': 19700, 'expiryDate': '03-Feb-2...</td>\n",
       "      <td>{'strikePrice': 19700, 'expiryDate': '03-Feb-2...</td>\n",
       "    </tr>\n",
       "    <tr>\n",
       "      <th>93</th>\n",
       "      <td>19750</td>\n",
       "      <td>03-Feb-2022</td>\n",
       "      <td>{'strikePrice': 19750, 'expiryDate': '03-Feb-2...</td>\n",
       "      <td>{'strikePrice': 19750, 'expiryDate': '03-Feb-2...</td>\n",
       "    </tr>\n",
       "    <tr>\n",
       "      <th>94</th>\n",
       "      <td>19800</td>\n",
       "      <td>03-Feb-2022</td>\n",
       "      <td>{'strikePrice': 19800, 'expiryDate': '03-Feb-2...</td>\n",
       "      <td>{'strikePrice': 19800, 'expiryDate': '03-Feb-2...</td>\n",
       "    </tr>\n",
       "  </tbody>\n",
       "</table>\n",
       "<p>95 rows × 4 columns</p>\n",
       "</div>"
      ],
      "text/plain": [
       "    strikePrice   expiryDate  \\\n",
       "0         15100  03-Feb-2022   \n",
       "1         15150  03-Feb-2022   \n",
       "2         15200  03-Feb-2022   \n",
       "3         15250  03-Feb-2022   \n",
       "4         15300  03-Feb-2022   \n",
       "..          ...          ...   \n",
       "90        19600  03-Feb-2022   \n",
       "91        19650  03-Feb-2022   \n",
       "92        19700  03-Feb-2022   \n",
       "93        19750  03-Feb-2022   \n",
       "94        19800  03-Feb-2022   \n",
       "\n",
       "                                                   CE  \\\n",
       "0   {'strikePrice': 15100, 'expiryDate': '03-Feb-2...   \n",
       "1   {'strikePrice': 15150, 'expiryDate': '03-Feb-2...   \n",
       "2   {'strikePrice': 15200, 'expiryDate': '03-Feb-2...   \n",
       "3   {'strikePrice': 15250, 'expiryDate': '03-Feb-2...   \n",
       "4   {'strikePrice': 15300, 'expiryDate': '03-Feb-2...   \n",
       "..                                                ...   \n",
       "90  {'strikePrice': 19600, 'expiryDate': '03-Feb-2...   \n",
       "91  {'strikePrice': 19650, 'expiryDate': '03-Feb-2...   \n",
       "92  {'strikePrice': 19700, 'expiryDate': '03-Feb-2...   \n",
       "93  {'strikePrice': 19750, 'expiryDate': '03-Feb-2...   \n",
       "94  {'strikePrice': 19800, 'expiryDate': '03-Feb-2...   \n",
       "\n",
       "                                                   PE  \n",
       "0   {'strikePrice': 15100, 'expiryDate': '03-Feb-2...  \n",
       "1   {'strikePrice': 15150, 'expiryDate': '03-Feb-2...  \n",
       "2   {'strikePrice': 15200, 'expiryDate': '03-Feb-2...  \n",
       "3   {'strikePrice': 15250, 'expiryDate': '03-Feb-2...  \n",
       "4   {'strikePrice': 15300, 'expiryDate': '03-Feb-2...  \n",
       "..                                                ...  \n",
       "90  {'strikePrice': 19600, 'expiryDate': '03-Feb-2...  \n",
       "91  {'strikePrice': 19650, 'expiryDate': '03-Feb-2...  \n",
       "92  {'strikePrice': 19700, 'expiryDate': '03-Feb-2...  \n",
       "93  {'strikePrice': 19750, 'expiryDate': '03-Feb-2...  \n",
       "94  {'strikePrice': 19800, 'expiryDate': '03-Feb-2...  \n",
       "\n",
       "[95 rows x 4 columns]"
      ]
     },
     "execution_count": 6,
     "metadata": {},
     "output_type": "execute_result"
    }
   ],
   "source": [
    "raw_op"
   ]
  },
  {
   "cell_type": "code",
   "execution_count": 7,
   "metadata": {},
   "outputs": [
    {
     "data": {
      "text/plain": [
       "17101.95"
      ]
     },
     "execution_count": 7,
     "metadata": {},
     "output_type": "execute_result"
    }
   ],
   "source": [
    "raw_op.iloc[0,2][\"underlyingValue\"]"
   ]
  },
  {
   "cell_type": "code",
   "execution_count": 8,
   "metadata": {},
   "outputs": [],
   "source": [
    "def dataframe(raw):\n",
    "    data = []\n",
    "    for i in range(len(raw)):\n",
    "        call_oi = call_coi = put_oi = put_coi = call_ltp = put_ltp = 0\n",
    "        call_IV = put_IV = 0\n",
    "        strike = raw[\"strikePrice\"][i]\n",
    "        if(raw[\"CE\"][i]==0):\n",
    "            calloi = call_coi = 0\n",
    "        else:\n",
    "            call_oi = raw[\"CE\"][i][\"openInterest\"]\n",
    "            call_coi = raw[\"CE\"][i][\"changeinOpenInterest\"]\n",
    "            call_ltp = raw[\"CE\"][i]['lastPrice']\n",
    "            call_IV = raw[\"CE\"][i]['impliedVolatility']\n",
    "        \n",
    "        if(raw[\"PE\"][i]==0):\n",
    "            putoi = put_coi = 0\n",
    "        else:\n",
    "            put_oi = raw[\"PE\"][i][\"openInterest\"]\n",
    "            put_coi = raw[\"PE\"][i][\"changeinOpenInterest\"]\n",
    "            put_ltp = raw[\"PE\"][i]['lastPrice']\n",
    "            put_IV = raw[\"PE\"][i]['impliedVolatility']\n",
    "            \n",
    "        option_data = {\n",
    "            \"Call OI\" : call_oi, \"Call C_OI\" : call_coi,\"Call IV\": call_IV ,\"Call LTP\" : call_ltp, \"STRIKE\" : strike,\n",
    "             \"Put LTP\" : put_ltp ,\"Put IV\" : put_IV , \"Put C_OI\" : put_coi, \"Put OI\" : put_oi\n",
    "        }\n",
    "        data.append(option_data)\n",
    "    optionchain = pd.DataFrame(data)\n",
    "    return optionchain, raw.iloc[0,2][\"underlyingValue\"]"
   ]
  },
  {
   "cell_type": "code",
   "execution_count": 9,
   "metadata": {},
   "outputs": [],
   "source": [
    "optionchain, underlying_ltp = dataframe(raw_op)"
   ]
  },
  {
   "cell_type": "code",
   "execution_count": 10,
   "metadata": {},
   "outputs": [
    {
     "data": {
      "text/plain": [
       "17101.95"
      ]
     },
     "execution_count": 10,
     "metadata": {},
     "output_type": "execute_result"
    }
   ],
   "source": [
    "underlying_ltp"
   ]
  },
  {
   "cell_type": "code",
   "execution_count": 11,
   "metadata": {
    "scrolled": false
   },
   "outputs": [
    {
     "data": {
      "text/html": [
       "<div>\n",
       "<style scoped>\n",
       "    .dataframe tbody tr th:only-of-type {\n",
       "        vertical-align: middle;\n",
       "    }\n",
       "\n",
       "    .dataframe tbody tr th {\n",
       "        vertical-align: top;\n",
       "    }\n",
       "\n",
       "    .dataframe thead th {\n",
       "        text-align: right;\n",
       "    }\n",
       "</style>\n",
       "<table border=\"1\" class=\"dataframe\">\n",
       "  <thead>\n",
       "    <tr style=\"text-align: right;\">\n",
       "      <th></th>\n",
       "      <th>Call OI</th>\n",
       "      <th>Call C_OI</th>\n",
       "      <th>Call IV</th>\n",
       "      <th>Call LTP</th>\n",
       "      <th>STRIKE</th>\n",
       "      <th>Put LTP</th>\n",
       "      <th>Put IV</th>\n",
       "      <th>Put C_OI</th>\n",
       "      <th>Put OI</th>\n",
       "    </tr>\n",
       "  </thead>\n",
       "  <tbody>\n",
       "    <tr>\n",
       "      <th>0</th>\n",
       "      <td>14</td>\n",
       "      <td>13</td>\n",
       "      <td>102.59</td>\n",
       "      <td>2216.60</td>\n",
       "      <td>15100</td>\n",
       "      <td>2.75</td>\n",
       "      <td>41.92</td>\n",
       "      <td>9824</td>\n",
       "      <td>59036</td>\n",
       "    </tr>\n",
       "    <tr>\n",
       "      <th>1</th>\n",
       "      <td>0</td>\n",
       "      <td>0</td>\n",
       "      <td>0.00</td>\n",
       "      <td>0.00</td>\n",
       "      <td>15150</td>\n",
       "      <td>3.05</td>\n",
       "      <td>41.49</td>\n",
       "      <td>246</td>\n",
       "      <td>246</td>\n",
       "    </tr>\n",
       "    <tr>\n",
       "      <th>2</th>\n",
       "      <td>0</td>\n",
       "      <td>0</td>\n",
       "      <td>0.00</td>\n",
       "      <td>0.00</td>\n",
       "      <td>15200</td>\n",
       "      <td>3.00</td>\n",
       "      <td>40.43</td>\n",
       "      <td>4689</td>\n",
       "      <td>10034</td>\n",
       "    </tr>\n",
       "    <tr>\n",
       "      <th>3</th>\n",
       "      <td>0</td>\n",
       "      <td>0</td>\n",
       "      <td>0.00</td>\n",
       "      <td>0.00</td>\n",
       "      <td>15250</td>\n",
       "      <td>3.30</td>\n",
       "      <td>39.94</td>\n",
       "      <td>346</td>\n",
       "      <td>346</td>\n",
       "    </tr>\n",
       "    <tr>\n",
       "      <th>4</th>\n",
       "      <td>0</td>\n",
       "      <td>0</td>\n",
       "      <td>0.00</td>\n",
       "      <td>0.00</td>\n",
       "      <td>15300</td>\n",
       "      <td>3.45</td>\n",
       "      <td>39.19</td>\n",
       "      <td>6803</td>\n",
       "      <td>14499</td>\n",
       "    </tr>\n",
       "    <tr>\n",
       "      <th>...</th>\n",
       "      <td>...</td>\n",
       "      <td>...</td>\n",
       "      <td>...</td>\n",
       "      <td>...</td>\n",
       "      <td>...</td>\n",
       "      <td>...</td>\n",
       "      <td>...</td>\n",
       "      <td>...</td>\n",
       "      <td>...</td>\n",
       "    </tr>\n",
       "    <tr>\n",
       "      <th>90</th>\n",
       "      <td>5169</td>\n",
       "      <td>2403</td>\n",
       "      <td>41.45</td>\n",
       "      <td>1.75</td>\n",
       "      <td>19600</td>\n",
       "      <td>0.00</td>\n",
       "      <td>0.00</td>\n",
       "      <td>0</td>\n",
       "      <td>1</td>\n",
       "    </tr>\n",
       "    <tr>\n",
       "      <th>91</th>\n",
       "      <td>189</td>\n",
       "      <td>21</td>\n",
       "      <td>42.01</td>\n",
       "      <td>1.70</td>\n",
       "      <td>19650</td>\n",
       "      <td>0.00</td>\n",
       "      <td>0.00</td>\n",
       "      <td>0</td>\n",
       "      <td>0</td>\n",
       "    </tr>\n",
       "    <tr>\n",
       "      <th>92</th>\n",
       "      <td>5251</td>\n",
       "      <td>855</td>\n",
       "      <td>42.55</td>\n",
       "      <td>1.65</td>\n",
       "      <td>19700</td>\n",
       "      <td>0.00</td>\n",
       "      <td>0.00</td>\n",
       "      <td>0</td>\n",
       "      <td>1</td>\n",
       "    </tr>\n",
       "    <tr>\n",
       "      <th>93</th>\n",
       "      <td>1538</td>\n",
       "      <td>372</td>\n",
       "      <td>43.23</td>\n",
       "      <td>1.65</td>\n",
       "      <td>19750</td>\n",
       "      <td>0.00</td>\n",
       "      <td>0.00</td>\n",
       "      <td>0</td>\n",
       "      <td>2</td>\n",
       "    </tr>\n",
       "    <tr>\n",
       "      <th>94</th>\n",
       "      <td>78363</td>\n",
       "      <td>11455</td>\n",
       "      <td>43.76</td>\n",
       "      <td>1.60</td>\n",
       "      <td>19800</td>\n",
       "      <td>0.00</td>\n",
       "      <td>0.00</td>\n",
       "      <td>0</td>\n",
       "      <td>0</td>\n",
       "    </tr>\n",
       "  </tbody>\n",
       "</table>\n",
       "<p>95 rows × 9 columns</p>\n",
       "</div>"
      ],
      "text/plain": [
       "    Call OI  Call C_OI  Call IV  Call LTP  STRIKE  Put LTP  Put IV  Put C_OI  \\\n",
       "0        14         13   102.59   2216.60   15100     2.75   41.92      9824   \n",
       "1         0          0     0.00      0.00   15150     3.05   41.49       246   \n",
       "2         0          0     0.00      0.00   15200     3.00   40.43      4689   \n",
       "3         0          0     0.00      0.00   15250     3.30   39.94       346   \n",
       "4         0          0     0.00      0.00   15300     3.45   39.19      6803   \n",
       "..      ...        ...      ...       ...     ...      ...     ...       ...   \n",
       "90     5169       2403    41.45      1.75   19600     0.00    0.00         0   \n",
       "91      189         21    42.01      1.70   19650     0.00    0.00         0   \n",
       "92     5251        855    42.55      1.65   19700     0.00    0.00         0   \n",
       "93     1538        372    43.23      1.65   19750     0.00    0.00         0   \n",
       "94    78363      11455    43.76      1.60   19800     0.00    0.00         0   \n",
       "\n",
       "    Put OI  \n",
       "0    59036  \n",
       "1      246  \n",
       "2    10034  \n",
       "3      346  \n",
       "4    14499  \n",
       "..     ...  \n",
       "90       1  \n",
       "91       0  \n",
       "92       1  \n",
       "93       2  \n",
       "94       0  \n",
       "\n",
       "[95 rows x 9 columns]"
      ]
     },
     "execution_count": 11,
     "metadata": {},
     "output_type": "execute_result"
    }
   ],
   "source": [
    "optionchain"
   ]
  },
  {
   "cell_type": "code",
   "execution_count": 12,
   "metadata": {},
   "outputs": [],
   "source": [
    "option = optionchain[(optionchain[\"Call OI\"]>1000) | (optionchain[\"Put OI\"]>1000)]"
   ]
  },
  {
   "cell_type": "code",
   "execution_count": 13,
   "metadata": {},
   "outputs": [
    {
     "data": {
      "text/html": [
       "<div>\n",
       "<style scoped>\n",
       "    .dataframe tbody tr th:only-of-type {\n",
       "        vertical-align: middle;\n",
       "    }\n",
       "\n",
       "    .dataframe tbody tr th {\n",
       "        vertical-align: top;\n",
       "    }\n",
       "\n",
       "    .dataframe thead th {\n",
       "        text-align: right;\n",
       "    }\n",
       "</style>\n",
       "<table border=\"1\" class=\"dataframe\">\n",
       "  <thead>\n",
       "    <tr style=\"text-align: right;\">\n",
       "      <th></th>\n",
       "      <th>Call OI</th>\n",
       "      <th>Call C_OI</th>\n",
       "      <th>Call IV</th>\n",
       "      <th>Call LTP</th>\n",
       "      <th>STRIKE</th>\n",
       "      <th>Put LTP</th>\n",
       "      <th>Put IV</th>\n",
       "      <th>Put C_OI</th>\n",
       "      <th>Put OI</th>\n",
       "    </tr>\n",
       "  </thead>\n",
       "  <tbody>\n",
       "    <tr>\n",
       "      <th>0</th>\n",
       "      <td>14</td>\n",
       "      <td>13</td>\n",
       "      <td>102.59</td>\n",
       "      <td>2216.60</td>\n",
       "      <td>15100</td>\n",
       "      <td>2.75</td>\n",
       "      <td>41.92</td>\n",
       "      <td>9824</td>\n",
       "      <td>59036</td>\n",
       "    </tr>\n",
       "    <tr>\n",
       "      <th>2</th>\n",
       "      <td>0</td>\n",
       "      <td>0</td>\n",
       "      <td>0.00</td>\n",
       "      <td>0.00</td>\n",
       "      <td>15200</td>\n",
       "      <td>3.00</td>\n",
       "      <td>40.43</td>\n",
       "      <td>4689</td>\n",
       "      <td>10034</td>\n",
       "    </tr>\n",
       "    <tr>\n",
       "      <th>4</th>\n",
       "      <td>0</td>\n",
       "      <td>0</td>\n",
       "      <td>0.00</td>\n",
       "      <td>0.00</td>\n",
       "      <td>15300</td>\n",
       "      <td>3.45</td>\n",
       "      <td>39.19</td>\n",
       "      <td>6803</td>\n",
       "      <td>14499</td>\n",
       "    </tr>\n",
       "    <tr>\n",
       "      <th>6</th>\n",
       "      <td>1</td>\n",
       "      <td>1</td>\n",
       "      <td>0.00</td>\n",
       "      <td>0.00</td>\n",
       "      <td>15400</td>\n",
       "      <td>3.95</td>\n",
       "      <td>37.90</td>\n",
       "      <td>2346</td>\n",
       "      <td>3827</td>\n",
       "    </tr>\n",
       "    <tr>\n",
       "      <th>8</th>\n",
       "      <td>362</td>\n",
       "      <td>9</td>\n",
       "      <td>86.88</td>\n",
       "      <td>1810.00</td>\n",
       "      <td>15500</td>\n",
       "      <td>4.50</td>\n",
       "      <td>36.56</td>\n",
       "      <td>23174</td>\n",
       "      <td>48115</td>\n",
       "    </tr>\n",
       "    <tr>\n",
       "      <th>...</th>\n",
       "      <td>...</td>\n",
       "      <td>...</td>\n",
       "      <td>...</td>\n",
       "      <td>...</td>\n",
       "      <td>...</td>\n",
       "      <td>...</td>\n",
       "      <td>...</td>\n",
       "      <td>...</td>\n",
       "      <td>...</td>\n",
       "    </tr>\n",
       "    <tr>\n",
       "      <th>88</th>\n",
       "      <td>51978</td>\n",
       "      <td>31867</td>\n",
       "      <td>40.32</td>\n",
       "      <td>1.85</td>\n",
       "      <td>19500</td>\n",
       "      <td>0.00</td>\n",
       "      <td>0.00</td>\n",
       "      <td>0</td>\n",
       "      <td>1</td>\n",
       "    </tr>\n",
       "    <tr>\n",
       "      <th>90</th>\n",
       "      <td>5169</td>\n",
       "      <td>2403</td>\n",
       "      <td>41.45</td>\n",
       "      <td>1.75</td>\n",
       "      <td>19600</td>\n",
       "      <td>0.00</td>\n",
       "      <td>0.00</td>\n",
       "      <td>0</td>\n",
       "      <td>1</td>\n",
       "    </tr>\n",
       "    <tr>\n",
       "      <th>92</th>\n",
       "      <td>5251</td>\n",
       "      <td>855</td>\n",
       "      <td>42.55</td>\n",
       "      <td>1.65</td>\n",
       "      <td>19700</td>\n",
       "      <td>0.00</td>\n",
       "      <td>0.00</td>\n",
       "      <td>0</td>\n",
       "      <td>1</td>\n",
       "    </tr>\n",
       "    <tr>\n",
       "      <th>93</th>\n",
       "      <td>1538</td>\n",
       "      <td>372</td>\n",
       "      <td>43.23</td>\n",
       "      <td>1.65</td>\n",
       "      <td>19750</td>\n",
       "      <td>0.00</td>\n",
       "      <td>0.00</td>\n",
       "      <td>0</td>\n",
       "      <td>2</td>\n",
       "    </tr>\n",
       "    <tr>\n",
       "      <th>94</th>\n",
       "      <td>78363</td>\n",
       "      <td>11455</td>\n",
       "      <td>43.76</td>\n",
       "      <td>1.60</td>\n",
       "      <td>19800</td>\n",
       "      <td>0.00</td>\n",
       "      <td>0.00</td>\n",
       "      <td>0</td>\n",
       "      <td>0</td>\n",
       "    </tr>\n",
       "  </tbody>\n",
       "</table>\n",
       "<p>81 rows × 9 columns</p>\n",
       "</div>"
      ],
      "text/plain": [
       "    Call OI  Call C_OI  Call IV  Call LTP  STRIKE  Put LTP  Put IV  Put C_OI  \\\n",
       "0        14         13   102.59   2216.60   15100     2.75   41.92      9824   \n",
       "2         0          0     0.00      0.00   15200     3.00   40.43      4689   \n",
       "4         0          0     0.00      0.00   15300     3.45   39.19      6803   \n",
       "6         1          1     0.00      0.00   15400     3.95   37.90      2346   \n",
       "8       362          9    86.88   1810.00   15500     4.50   36.56     23174   \n",
       "..      ...        ...      ...       ...     ...      ...     ...       ...   \n",
       "88    51978      31867    40.32      1.85   19500     0.00    0.00         0   \n",
       "90     5169       2403    41.45      1.75   19600     0.00    0.00         0   \n",
       "92     5251        855    42.55      1.65   19700     0.00    0.00         0   \n",
       "93     1538        372    43.23      1.65   19750     0.00    0.00         0   \n",
       "94    78363      11455    43.76      1.60   19800     0.00    0.00         0   \n",
       "\n",
       "    Put OI  \n",
       "0    59036  \n",
       "2    10034  \n",
       "4    14499  \n",
       "6     3827  \n",
       "8    48115  \n",
       "..     ...  \n",
       "88       1  \n",
       "90       1  \n",
       "92       1  \n",
       "93       2  \n",
       "94       0  \n",
       "\n",
       "[81 rows x 9 columns]"
      ]
     },
     "execution_count": 13,
     "metadata": {},
     "output_type": "execute_result"
    }
   ],
   "source": [
    "option"
   ]
  },
  {
   "cell_type": "code",
   "execution_count": 14,
   "metadata": {},
   "outputs": [],
   "source": [
    "option = option.loc[option[\"Put LTP\"] != 0]\n",
    "option = option.loc[option[\"Call LTP\"] !=0]"
   ]
  },
  {
   "cell_type": "code",
   "execution_count": 15,
   "metadata": {},
   "outputs": [
    {
     "data": {
      "text/plain": [
       "Call OI         14.00\n",
       "Call C_OI       13.00\n",
       "Call IV        102.59\n",
       "Call LTP      2216.60\n",
       "STRIKE       15100.00\n",
       "Put LTP          2.75\n",
       "Put IV          41.92\n",
       "Put C_OI      9824.00\n",
       "Put OI       59036.00\n",
       "Name: 0, dtype: float64"
      ]
     },
     "execution_count": 15,
     "metadata": {},
     "output_type": "execute_result"
    }
   ],
   "source": [
    "option.iloc[0]"
   ]
  },
  {
   "cell_type": "code",
   "execution_count": 16,
   "metadata": {},
   "outputs": [],
   "source": [
    "option = option.loc[option[\"Put LTP\"] != 0]"
   ]
  },
  {
   "cell_type": "code",
   "execution_count": 17,
   "metadata": {},
   "outputs": [
    {
     "data": {
      "text/plain": [
       "<matplotlib.lines.Line2D at 0x15fbaa96700>"
      ]
     },
     "execution_count": 17,
     "metadata": {},
     "output_type": "execute_result"
    },
    {
     "data": {
      "image/png": "[encoded data removed]",
      "text/plain": [
       "<Figure size 432x288 with 1 Axes>"
      ]
     },
     "metadata": {
      "needs_background": "light"
     },
     "output_type": "display_data"
    }
   ],
   "source": [
    "plt.plot(option[\"STRIKE\"],option[\"Call IV\"]) #, figure=(20,16)\n",
    "plt.grid('True')\n",
    "plt.title(\"Call Skew\")\n",
    "plt.xlabel(\"Strikes\")\n",
    "plt.ylim(bottom=0, top=150)\n",
    "plt.ylabel(\"Implied Volatility\")\n",
    "plt.axvline(x=underlying_ltp, color = 'r', linestyle = '--')"
   ]
  },
  {
   "cell_type": "code",
   "execution_count": 18,
   "metadata": {},
   "outputs": [
    {
     "data": {
      "text/plain": [
       "<matplotlib.lines.Line2D at 0x15fbadd2760>"
      ]
     },
     "execution_count": 18,
     "metadata": {},
     "output_type": "execute_result"
    },
    {
     "data": {
      "image/png": "[encoded data removed]",
      "text/plain": [
       "<Figure size 432x288 with 1 Axes>"
      ]
     },
     "metadata": {
      "needs_background": "light"
     },
     "output_type": "display_data"
    }
   ],
   "source": [
    "plt.plot(option[\"STRIKE\"],option[\"Put IV\"])\n",
    "plt.grid('True')\n",
    "plt.title(\"Put Skew\")\n",
    "plt.ylim(bottom=0, top=150)\n",
    "plt.xlabel(\"Strikes\")\n",
    "plt.ylabel(\"Implied Volatility\")\n",
    "plt.axvline(x=underlying_ltp, color = 'r', linestyle = '--')"
   ]
  },
  {
   "cell_type": "code",
   "execution_count": null,
   "metadata": {},
   "outputs": [],
   "source": []
  }
 ],
 "metadata": {
  "kernelspec": {
   "display_name": "Python 3",
   "language": "python",
   "name": "python3"
  },
  "language_info": {
   "codemirror_mode": {
    "name": "ipython",
    "version": 3
   },
   "file_extension": ".py",
   "mimetype": "text/x-python",
   "name": "python",
   "nbconvert_exporter": "python",
   "pygments_lexer": "ipython3",
   "version": "3.8.5"
  },
  "latex_envs": {
   "LaTeX_envs_menu_present": true,
   "autoclose": false,
   "autocomplete": true,
   "bibliofile": "biblio.bib",
   "cite_by": "apalike",
   "current_citInitial": 1,
   "eqLabelWithNumbers": true,
   "eqNumInitial": 1,
   "hotkeys": {
    "equation": "Ctrl-E",
    "itemize": "Ctrl-I"
   },
   "labels_anchors": false,
   "latex_user_defs": false,
   "report_style_numbering": false,
   "user_envs_cfg": false
  },
  "toc": {
   "base_numbering": 1,
   "nav_menu": {},
   "number_sections": true,
   "sideBar": true,
   "skip_h1_title": false,
   "title_cell": "Table of Contents",
   "title_sidebar": "Contents",
   "toc_cell": false,
   "toc_position": {},
   "toc_section_display": true,
   "toc_window_display": false
  },
  "varInspector": {
   "cols": {
    "lenName": 16,
    "lenType": 16,
    "lenVar": 40
   },
   "kernels_config": {
    "python": {
     "delete_cmd_postfix": "",
     "delete_cmd_prefix": "del ",
     "library": "var_list.py",
     "varRefreshCmd": "print(var_dic_list())"
    },
    "r": {
     "delete_cmd_postfix": ") ",
     "delete_cmd_prefix": "rm(",
     "library": "var_list.r",
     "varRefreshCmd": "cat(var_dic_list()) "
    }
   },
   "types_to_exclude": [
    "module",
    "function",
    "builtin_function_or_method",
    "instance",
    "_Feature"
   ],
   "window_display": false
  }
 },
 "nbformat": 4,
 "nbformat_minor": 4
}
