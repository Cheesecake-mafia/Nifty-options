{
 "cells": [
  {
   "cell_type": "code",
   "execution_count": 1,
   "metadata": {},
   "outputs": [],
   "source": [
    "import requests\n",
    "import pandas as pd\n",
    "import matplotlib.pyplot as plt\n",
    "from datetime import datetime"
   ]
  },
  {
   "cell_type": "code",
   "execution_count": 2,
   "metadata": {},
   "outputs": [],
   "source": [
    "url = 'https://www.nseindia.com/api/option-chain-indices?symbol=NIFTY'"
   ]
  },
  {
   "cell_type": "code",
   "execution_count": 3,
   "metadata": {},
   "outputs": [],
   "source": [
    "headers = {\n",
    "    'user-agent': 'Mozilla/5.0 (Windows NT 10.0; Win64; x64) AppleWebKit/537.36 (KHTML, like Gecko) Chrome/97.0.4692.99 Safari/537.36'\n",
    "    ,'accept-encoding': 'gzip, deflate, br'\n",
    "    ,'accept-language': 'en-US,en;q=0.9'    \n",
    "}"
   ]
  },
  {
   "cell_type": "code",
   "execution_count": 4,
   "metadata": {},
   "outputs": [],
   "source": [
    "session = requests.Session()\n",
    "request = session.get(url, headers=headers)\n",
    "cookies = dict(request.cookies)\n",
    "response = session.get(url, headers=headers, cookies=cookies).json()\n",
    "rawdata = pd.DataFrame(response)"
   ]
  },
  {
   "cell_type": "code",
   "execution_count": 5,
   "metadata": {},
   "outputs": [],
   "source": [
    "df= pd.DataFrame(response[\"records\"]['data']).fillna(0)"
   ]
  },
  {
   "cell_type": "code",
   "execution_count": 6,
   "metadata": {},
   "outputs": [],
   "source": [
    "def option_dataframe(df):\n",
    "    data = []\n",
    "    df.sort_values(by=[\"expiryDate\", \"strikePrice\"], ascending=True, inplace=True)\n",
    "    for i in range(len(df)):\n",
    "        call_oi = call_coi = put_oi = put_coi  = int(0)\n",
    "        call_IV = put_IV = call_ltp = put_ltp = float(0)\n",
    "        strike = df.iloc[i,0]\n",
    "        expiry = df.iloc[i,1]\n",
    "        if(df.iloc[i,-1] == 0):\n",
    "            calloi = call_coi = 0\n",
    "        else:\n",
    "            call_oi = df.iloc[i,-1][\"openInterest\"]\n",
    "            call_coi = df.iloc[i,-1][\"changeinOpenInterest\"]\n",
    "            call_ltp = df.iloc[i,-1]['lastPrice']\n",
    "            call_IV = df.iloc[i,-1]['impliedVolatility']\n",
    "        \n",
    "        if(df.iloc[i,-2] == 0):\n",
    "            putoi = put_coi = 0\n",
    "        else:\n",
    "            put_oi = df.iloc[i,-2][\"openInterest\"]\n",
    "            put_coi = df.iloc[i,-2][\"changeinOpenInterest\"]\n",
    "            put_ltp = df.iloc[i,-2]['lastPrice']\n",
    "            put_IV = df.iloc[i,-2]['impliedVolatility']\n",
    "            \n",
    "        option_data = {\"Expiry\": expiry,\n",
    "            \"Call OI\" : call_oi, \"Call C_OI\" : call_coi,\"Call IV\": call_IV ,\"Call LTP\" : call_ltp, \"STRIKE\" : strike,\n",
    "             \"Put LTP\" : put_ltp ,\"Put IV\" : put_IV , \"Put C_OI\" : put_coi, \"Put OI\" : put_oi\n",
    "        }\n",
    "        data.append(option_data)\n",
    "    optionchain = pd.DataFrame(data)\n",
    "\n",
    "    return optionchain , df.iloc[0,-1][\"underlyingValue\"]"
   ]
  },
  {
   "cell_type": "code",
   "execution_count": 7,
   "metadata": {},
   "outputs": [],
   "source": [
    "optionchain  , underlying_ltp = option_dataframe(df) "
   ]
  },
  {
   "cell_type": "code",
   "execution_count": 8,
   "metadata": {},
   "outputs": [],
   "source": [
    "strike_list = pd.Series(optionchain[\"STRIKE\"].unique()).sort_values(ascending=True)\n",
    "expiries_list = pd.to_datetime(optionchain[\"Expiry\"].unique()).sort_values(ascending=True)"
   ]
  },
  {
   "cell_type": "code",
   "execution_count": 10,
   "metadata": {},
   "outputs": [],
   "source": [
    "def by_expiry(optionchain, cutoff = 50):\n",
    "    option_dict = {}\n",
    "    optionchain[\"Expiry\"] = pd.to_datetime(optionchain[\"Expiry\"])\n",
    "    for i in  range(len(expiries_list)):\n",
    "        option_dict[i] = optionchain.loc[optionchain[\"Expiry\"] == expiries_list[i]]\n",
    "        option_dict[i] = option_dict[i].drop(option_dict[i][(option_dict[i][\"Call OI\"]<=cutoff) | (option_dict[i][\"Put OI\"]<=cutoff)].index)\n",
    "        option_dict[i].reset_index(inplace=True,drop=True)\n",
    "        option_dict[i].drop([\"Expiry\"], axis=1, inplace=True)\n",
    "    return option_dict"
   ]
  },
  {
   "cell_type": "code",
   "execution_count": 11,
   "metadata": {},
   "outputs": [],
   "source": [
    "def by_strike(optionchain, cutoff = 50):\n",
    "    optionchain.sort_values(by=[\"STRIKE\",\"Expiry\"], inplace=True, ascending=True)\n",
    "    option_dict = {}\n",
    "    for i in  strike_list:\n",
    "        option_dict[i] = optionchain.loc[optionchain[\"STRIKE\"] == i]\n",
    "        option_dict[i] = option_dict[i].drop(option_dict[i][(option_dict[i][\"Call OI\"]<=cutoff) | (option_dict[i][\"Put OI\"]<=cutoff)].index)\n",
    "        option_dict[i] = option_dict[i].drop(option_dict[i][(option_dict[i][\"Call LTP\"] == 0) | (option_dict[i][\"Put LTP\"] == 0)].index)\n",
    "        option_dict[i].reset_index(inplace=True,drop=True)\n",
    "        option_dict[i].drop([\"STRIKE\"], axis=1, inplace=True)\n",
    "    return option_dict"
   ]
  },
  {
   "cell_type": "code",
   "execution_count": 12,
   "metadata": {
    "scrolled": false
   },
   "outputs": [],
   "source": [
    "expiry = by_expiry(optionchain, cutoff = 100)\n",
    "strike = by_strike(optionchain, cutoff = 100)"
   ]
  },
  {
   "cell_type": "code",
   "execution_count": 16,
   "metadata": {},
   "outputs": [],
   "source": [
    "def plot_graph_expiry(options, expiry=0):\n",
    "    plt.plot(options[expiry][\"STRIKE\"],options[expiry][\"Call IV\"])\n",
    "    plt.plot(options[expiry][\"STRIKE\"],options[expiry][\"Put IV\"], color='r')#, figure=(20,16)\n",
    "    plt.grid('True')\n",
    "    plt.title(\"Option Skew\")\n",
    "    plt.xlabel(\"Strikes\")\n",
    "    plt.legend([\"Call Skew\",\"Put Skew\"])\n",
    "    plt.ylabel(\"Implied Volatility\")\n",
    "    plt.axvline(x=underlying_ltp, color = 'r', linestyle = '--')\n",
    "    plt.show();"
   ]
  },
  {
   "cell_type": "code",
   "execution_count": null,
   "metadata": {},
   "outputs": [],
   "source": [
    "def plot_graph_strike(option, strike=17100):\n",
    "    option[strike][\"Expiry\"] = pd.to_datetime(option[strike][\"Expiry\"])\n",
    "    plt.plot(option[strike][\"Expiry\"], option[strike][\"Call IV\"])\n",
    "    plt.plot(option[strike][\"Expiry\"], option[strike][\"Put IV\"], color = 'r')\n",
    "    plt.grid('True')\n",
    "    plt.title(\"Term Structure of \" + str(strike) + \" option.\")\n",
    "    plt.legend([\"Call Term Structure\",\"Put Term Structure\"])\n",
    "    plt.ylabel(\"Implied Volatility\")\n",
    "#     plt.axvline(x=underlying_ltp, color = 'r', linestyle = '--')\n",
    "    plt.show();"
   ]
  },
  {
   "cell_type": "code",
   "execution_count": 17,
   "metadata": {},
   "outputs": [
    {
     "data": {
      "image/png": "[encoded data removed]",
      "text/plain": [
       "<Figure size 432x288 with 1 Axes>"
      ]
     },
     "metadata": {
      "needs_background": "light"
     },
     "output_type": "display_data"
    }
   ],
   "source": [
    "plot_graph_expiry(expiry, 0)"
   ]
  },
  {
   "cell_type": "code",
   "execution_count": 31,
   "metadata": {},
   "outputs": [
    {
     "data": {
      "image/png": "[encoded data removed]",
      "text/plain": [
       "<Figure size 432x288 with 1 Axes>"
      ]
     },
     "metadata": {
      "needs_background": "light"
     },
     "output_type": "display_data"
    }
   ],
   "source": [
    "plot_graph_strike(strike, 17100)"
   ]
  },
  {
   "cell_type": "code",
   "execution_count": null,
   "metadata": {},
   "outputs": [],
   "source": []
  }
 ],
 "metadata": {
  "kernelspec": {
   "display_name": "Python 3",
   "language": "python",
   "name": "python3"
  },
  "language_info": {
   "codemirror_mode": {
    "name": "ipython",
    "version": 3
   },
   "file_extension": ".py",
   "mimetype": "text/x-python",
   "name": "python",
   "nbconvert_exporter": "python",
   "pygments_lexer": "ipython3",
   "version": "3.8.5"
  },
  "latex_envs": {
   "LaTeX_envs_menu_present": true,
   "autoclose": false,
   "autocomplete": true,
   "bibliofile": "biblio.bib",
   "cite_by": "apalike",
   "current_citInitial": 1,
   "eqLabelWithNumbers": true,
   "eqNumInitial": 1,
   "hotkeys": {
    "equation": "Ctrl-E",
    "itemize": "Ctrl-I"
   },
   "labels_anchors": false,
   "latex_user_defs": false,
   "report_style_numbering": false,
   "user_envs_cfg": false
  },
  "toc": {
   "base_numbering": 1,
   "nav_menu": {},
   "number_sections": true,
   "sideBar": true,
   "skip_h1_title": false,
   "title_cell": "Table of Contents",
   "title_sidebar": "Contents",
   "toc_cell": false,
   "toc_position": {},
   "toc_section_display": true,
   "toc_window_display": false
  },
  "varInspector": {
   "cols": {
    "lenName": 16,
    "lenType": 16,
    "lenVar": 40
   },
   "kernels_config": {
    "python": {
     "delete_cmd_postfix": "",
     "delete_cmd_prefix": "del ",
     "library": "var_list.py",
     "varRefreshCmd": "print(var_dic_list())"
    },
    "r": {
     "delete_cmd_postfix": ") ",
     "delete_cmd_prefix": "rm(",
     "library": "var_list.r",
     "varRefreshCmd": "cat(var_dic_list()) "
    }
   },
   "types_to_exclude": [
    "module",
    "function",
    "builtin_function_or_method",
    "instance",
    "_Feature"
   ],
   "window_display": false
  }
 },
 "nbformat": 4,
 "nbformat_minor": 4
}
